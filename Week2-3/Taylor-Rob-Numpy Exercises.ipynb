{
 "cells": [
  {
   "cell_type": "markdown",
   "metadata": {},
   "source": [
    "# Numpy Exercise for AI 240  - 10459          \n",
    "## Rob Taylor 4/23/2025\n",
    "\n",
    "Instructor- Dr. Uma Gajendragadkar\n",
    "\n",
    "### Save and submit your notebook in your Github account."
   ]
  },
  {
   "cell_type": "code",
   "execution_count": 2,
   "metadata": {},
   "outputs": [
    {
     "name": "stdout",
     "output_type": "stream",
     "text": [
      "Requirement already satisfied: Numpy in c:\\users\\robta\\anaconda3\\lib\\site-packages (1.26.4)\n"
     ]
    }
   ],
   "source": [
    "### Exercise 1.1 - If Numpy is not already installed then please install Numpy using below instruction\n",
    "!pip install Numpy  "
   ]
  },
  {
   "cell_type": "code",
   "execution_count": 3,
   "metadata": {},
   "outputs": [],
   "source": [
    "### Exercise 1.2 # Import Numpy package using below instruction \n",
    "import numpy as np"
   ]
  },
  {
   "cell_type": "code",
   "execution_count": 4,
   "metadata": {},
   "outputs": [
    {
     "name": "stdout",
     "output_type": "stream",
     "text": [
      "[1 2 3 4 5]\n",
      "5\n",
      "<class 'numpy.ndarray'>\n",
      "(5,)\n"
     ]
    }
   ],
   "source": [
    "### Exercise 1.3 ## Example Usage Read below example and execute the cell\n",
    "\n",
    "data = np.array([1,2,3,4,5])\n",
    "\n",
    "print(data)\n",
    "\n",
    "print(len(data))\n",
    "\n",
    "print(type(data))\n",
    "\n",
    "print(data.shape)"
   ]
  },
  {
   "cell_type": "code",
   "execution_count": 5,
   "metadata": {},
   "outputs": [],
   "source": [
    "### Exercise 1.4 Do all exercises from Lecture slides. Refer slides shared after the lecture."
   ]
  },
  {
   "cell_type": "code",
   "execution_count": 24,
   "metadata": {},
   "outputs": [
    {
     "name": "stdout",
     "output_type": "stream",
     "text": [
      "[10 20 30 40 50]\n"
     ]
    }
   ],
   "source": [
    "arr = np.array([10,20,30,40,50])\n",
    "print(arr)"
   ]
  },
  {
   "cell_type": "code",
   "execution_count": 20,
   "metadata": {},
   "outputs": [
    {
     "name": "stdout",
     "output_type": "stream",
     "text": [
      "[[10 20 30]\n",
      " [40 50 60]]\n"
     ]
    }
   ],
   "source": [
    "arr1 = np.array([[10,20,30],[40,50,60]])\n",
    "print(arr1)"
   ]
  },
  {
   "cell_type": "code",
   "execution_count": 26,
   "metadata": {},
   "outputs": [
    {
     "name": "stdout",
     "output_type": "stream",
     "text": [
      "10\n"
     ]
    }
   ],
   "source": [
    "print(arr[0])"
   ]
  },
  {
   "cell_type": "code",
   "execution_count": 28,
   "metadata": {},
   "outputs": [
    {
     "name": "stdout",
     "output_type": "stream",
     "text": [
      "[20 30 40 50]\n"
     ]
    }
   ],
   "source": [
    "print(arr[1:5])"
   ]
  },
  {
   "cell_type": "code",
   "execution_count": 30,
   "metadata": {},
   "outputs": [
    {
     "name": "stdout",
     "output_type": "stream",
     "text": [
      "[10 20 30 40 50]\n"
     ]
    }
   ],
   "source": [
    "arr = np.array([40,30,20,10,50])\n",
    "print(np.sort(arr))"
   ]
  },
  {
   "cell_type": "code",
   "execution_count": 32,
   "metadata": {},
   "outputs": [
    {
     "name": "stdout",
     "output_type": "stream",
     "text": [
      "['berry' 'kiwi' 'pear']\n"
     ]
    }
   ],
   "source": [
    "arr = np.array(['kiwi', 'berry', 'pear'])\n",
    "print(np.sort(arr))"
   ]
  },
  {
   "cell_type": "code",
   "execution_count": null,
   "metadata": {},
   "outputs": [],
   "source": []
  },
  {
   "cell_type": "code",
   "execution_count": 7,
   "metadata": {},
   "outputs": [
    {
     "name": "stdout",
     "output_type": "stream",
     "text": [
      "original array:  [ 3  2 14  9 10 12]\n",
      "Indicies where value = 9 :  [3]\n"
     ]
    }
   ],
   "source": [
    "### Exercise 1.5 Searching Arrays - find method of numpy to search an element in array - You can google for the method\n",
    "\n",
    "# Find the indexes where the value is 9:\n",
    "\n",
    "arr = np.array([3, 2, 14, 9, 10, 12])\n",
    "indices = np.where(arr == 9)[0]\n",
    "\n",
    "print(\"original array: \", arr)\n",
    "print(\"Indicies where value = 9 : \", indices)"
   ]
  },
  {
   "cell_type": "code",
   "execution_count": 8,
   "metadata": {},
   "outputs": [
    {
     "name": "stdout",
     "output_type": "stream",
     "text": [
      "Concatenated: [ 9  5  8 55 89 76]\n",
      "Appended: [ 9  5  8 55 89 76]\n"
     ]
    }
   ],
   "source": [
    "### Exercise 1.6 Join two arrays given below and print the result.\n",
    "\n",
    "arr1 = np.array([9, 5, 8])\n",
    "arr2 = np.array([55, 89, 76])\n",
    "\n",
    "# use np.concatenate\n",
    "concatenated = np.concatenate((arr1, arr2))\n",
    "print(\"Concatenated:\", concatenated)\n",
    "\n",
    "# or np.append\n",
    "appended = np.append(arr1, arr2)\n",
    "print(\"Appended:\", appended)\n"
   ]
  },
  {
   "cell_type": "code",
   "execution_count": null,
   "metadata": {},
   "outputs": [],
   "source": []
  }
 ],
 "metadata": {
  "kernelspec": {
   "display_name": "Python [conda env:base] *",
   "language": "python",
   "name": "conda-base-py"
  },
  "language_info": {
   "codemirror_mode": {
    "name": "ipython",
    "version": 3
   },
   "file_extension": ".py",
   "mimetype": "text/x-python",
   "name": "python",
   "nbconvert_exporter": "python",
   "pygments_lexer": "ipython3",
   "version": "3.12.7"
  }
 },
 "nbformat": 4,
 "nbformat_minor": 4
}
